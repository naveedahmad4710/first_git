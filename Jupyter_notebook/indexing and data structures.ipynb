{
 "cells": [
  {
   "cell_type": "markdown",
   "id": "928ac15d",
   "metadata": {},
   "source": [
    "#-Indexing"
   ]
  },
  {
   "cell_type": "code",
   "execution_count": 1,
   "id": "d0ed8d6b",
   "metadata": {},
   "outputs": [
    {
     "data": {
      "text/plain": [
       "'Samosa Pakora'"
      ]
     },
     "execution_count": 1,
     "metadata": {},
     "output_type": "execute_result"
    }
   ],
   "source": [
    "# make a string\n",
    "a = \"Samosa Pakora\"\n",
    "a"
   ]
  },
  {
   "cell_type": "code",
   "execution_count": 2,
   "id": "1fae44f5",
   "metadata": {},
   "outputs": [
    {
     "data": {
      "text/plain": [
       "'Samosa Pakora'"
      ]
     },
     "execution_count": 2,
     "metadata": {},
     "output_type": "execute_result"
    }
   ],
   "source": [
    "a"
   ]
  },
  {
   "cell_type": "code",
   "execution_count": 7,
   "id": "506cf614",
   "metadata": {},
   "outputs": [
    {
     "data": {
      "text/plain": [
       "13"
      ]
     },
     "execution_count": 7,
     "metadata": {},
     "output_type": "execute_result"
    }
   ],
   "source": [
    "#length of indices\n",
    "len(a)"
   ]
  },
  {
   "cell_type": "code",
   "execution_count": 3,
   "id": "cb9381df",
   "metadata": {},
   "outputs": [
    {
     "data": {
      "text/plain": [
       "'S'"
      ]
     },
     "execution_count": 3,
     "metadata": {},
     "output_type": "execute_result"
    }
   ],
   "source": [
    "a[0]"
   ]
  },
  {
   "cell_type": "code",
   "execution_count": 4,
   "id": "3846191a",
   "metadata": {
    "scrolled": true
   },
   "outputs": [
    {
     "data": {
      "text/plain": [
       "'o'"
      ]
     },
     "execution_count": 4,
     "metadata": {},
     "output_type": "execute_result"
    }
   ],
   "source": [
    "a[3]"
   ]
  },
  {
   "cell_type": "code",
   "execution_count": 8,
   "id": "595b4413",
   "metadata": {},
   "outputs": [
    {
     "data": {
      "text/plain": [
       "'Samos'"
      ]
     },
     "execution_count": 8,
     "metadata": {},
     "output_type": "execute_result"
    }
   ],
   "source": [
    "a[0:5]"
   ]
  },
  {
   "cell_type": "code",
   "execution_count": 10,
   "id": "79f7d229",
   "metadata": {},
   "outputs": [
    {
     "data": {
      "text/plain": [
       "'Samosa Pakora'"
      ]
     },
     "execution_count": 10,
     "metadata": {},
     "output_type": "execute_result"
    }
   ],
   "source": [
    "#last index is exclusive\n",
    "a[0:13]"
   ]
  },
  {
   "cell_type": "code",
   "execution_count": 19,
   "id": "cb219a2d",
   "metadata": {},
   "outputs": [
    {
     "data": {
      "text/plain": [
       "'Pakora'"
      ]
     },
     "execution_count": 19,
     "metadata": {},
     "output_type": "execute_result"
    }
   ],
   "source": [
    "a[-6:13]"
   ]
  },
  {
   "cell_type": "code",
   "execution_count": 21,
   "id": "862c319f",
   "metadata": {},
   "outputs": [
    {
     "data": {
      "text/plain": [
       "'Biryani'"
      ]
     },
     "execution_count": 21,
     "metadata": {},
     "output_type": "execute_result"
    }
   ],
   "source": [
    "food = \"Biryani\"\n",
    "food"
   ]
  },
  {
   "cell_type": "markdown",
   "id": "5cad25e4",
   "metadata": {},
   "source": [
    "#String Methods"
   ]
  },
  {
   "cell_type": "code",
   "execution_count": 22,
   "id": "a7873f56",
   "metadata": {
    "scrolled": true
   },
   "outputs": [
    {
     "data": {
      "text/plain": [
       "'Biryani'"
      ]
     },
     "execution_count": 22,
     "metadata": {},
     "output_type": "execute_result"
    }
   ],
   "source": [
    "food"
   ]
  },
  {
   "cell_type": "code",
   "execution_count": 23,
   "id": "6a7e8c14",
   "metadata": {},
   "outputs": [
    {
     "data": {
      "text/plain": [
       "7"
      ]
     },
     "execution_count": 23,
     "metadata": {},
     "output_type": "execute_result"
    }
   ],
   "source": [
    "len(food)"
   ]
  },
  {
   "cell_type": "code",
   "execution_count": 24,
   "id": "feea622e",
   "metadata": {},
   "outputs": [
    {
     "data": {
      "text/plain": [
       "'Biryani'"
      ]
     },
     "execution_count": 24,
     "metadata": {},
     "output_type": "execute_result"
    }
   ],
   "source": [
    "#capitalize every letter\n",
    "food.capitalize()"
   ]
  },
  {
   "cell_type": "code",
   "execution_count": 25,
   "id": "ddd29c48",
   "metadata": {},
   "outputs": [
    {
     "data": {
      "text/plain": [
       "'BIRYANI'"
      ]
     },
     "execution_count": 25,
     "metadata": {},
     "output_type": "execute_result"
    }
   ],
   "source": [
    "#upper case letters\n",
    "food.upper()"
   ]
  },
  {
   "cell_type": "code",
   "execution_count": 26,
   "id": "7c6a4b5d",
   "metadata": {},
   "outputs": [
    {
     "data": {
      "text/plain": [
       "'biryani'"
      ]
     },
     "execution_count": 26,
     "metadata": {},
     "output_type": "execute_result"
    }
   ],
   "source": [
    "#lower case letters\n",
    "food.lower()"
   ]
  },
  {
   "cell_type": "code",
   "execution_count": 29,
   "id": "9aef9dcf",
   "metadata": {},
   "outputs": [
    {
     "data": {
      "text/plain": [
       "'Biryani'"
      ]
     },
     "execution_count": 29,
     "metadata": {},
     "output_type": "execute_result"
    }
   ],
   "source": [
    "#replace\n",
    "food.replace(\"b\", \"sh\")"
   ]
  },
  {
   "cell_type": "code",
   "execution_count": 30,
   "id": "cbab738a",
   "metadata": {},
   "outputs": [
    {
     "data": {
      "text/plain": [
       "'baba_ammar with dr ammar tufail'"
      ]
     },
     "execution_count": 30,
     "metadata": {},
     "output_type": "execute_result"
    }
   ],
   "source": [
    "#counting a specific alphabet in a string\n",
    "name = \"baba_ammar with dr ammar tufail\"\n",
    "name"
   ]
  },
  {
   "cell_type": "code",
   "execution_count": 32,
   "id": "2aec79ae",
   "metadata": {},
   "outputs": [
    {
     "data": {
      "text/plain": [
       "2"
      ]
     },
     "execution_count": 32,
     "metadata": {},
     "output_type": "execute_result"
    }
   ],
   "source": [
    "name.count(\"ba\")"
   ]
  },
  {
   "cell_type": "markdown",
   "id": "f4932740",
   "metadata": {},
   "source": [
    "#how to find index number in string"
   ]
  },
  {
   "cell_type": "code",
   "execution_count": 33,
   "id": "5f034479",
   "metadata": {},
   "outputs": [
    {
     "data": {
      "text/plain": [
       "'baba_ammar with dr ammar tufail'"
      ]
     },
     "execution_count": 33,
     "metadata": {},
     "output_type": "execute_result"
    }
   ],
   "source": [
    "name = \"baba_ammar with dr ammar tufail\"\n",
    "name"
   ]
  },
  {
   "cell_type": "code",
   "execution_count": 35,
   "id": "b829b24b",
   "metadata": {},
   "outputs": [
    {
     "data": {
      "text/plain": [
       "16"
      ]
     },
     "execution_count": 35,
     "metadata": {},
     "output_type": "execute_result"
    }
   ],
   "source": [
    "name.find(\"d\")"
   ]
  },
  {
   "cell_type": "code",
   "execution_count": 36,
   "id": "d289864d",
   "metadata": {},
   "outputs": [
    {
     "data": {
      "text/plain": [
       "'I love Samosa, Pakora, Raita, Biryani and Karahi'"
      ]
     },
     "execution_count": 36,
     "metadata": {},
     "output_type": "execute_result"
    }
   ],
   "source": [
    "#how to split a string\n",
    "food = \"I love Samosa, Pakora, Raita, Biryani and Karahi\"\n",
    "food"
   ]
  },
  {
   "cell_type": "code",
   "execution_count": 37,
   "id": "091b45e8",
   "metadata": {},
   "outputs": [
    {
     "data": {
      "text/plain": [
       "['I love Samosa', ' Pakora', ' Raita', ' Biryani and Karahi']"
      ]
     },
     "execution_count": 37,
     "metadata": {},
     "output_type": "execute_result"
    }
   ],
   "source": [
    "food.split(\",\")"
   ]
  },
  {
   "cell_type": "markdown",
   "id": "5f1b6c2f",
   "metadata": {},
   "source": []
  },
  {
   "cell_type": "markdown",
   "id": "f7c997d6",
   "metadata": {},
   "source": [
    "Basic data Structures in Python\n",
    "\n",
    "1. Tuple\n",
    "2. List\n",
    "3. Dictionaries\n",
    "4. Set\n"
   ]
  },
  {
   "cell_type": "code",
   "execution_count": null,
   "id": "686228e4",
   "metadata": {},
   "outputs": [],
   "source": [
    "##1-Tuple\n",
    "-ordered collection of elements\n",
    "-enclosed in () round braces/paranthesis\n",
    "-different kind of elements can be stored\n",
    "-once elements are stored you can not change them (Unmutateable)\n"
   ]
  },
  {
   "cell_type": "code",
   "execution_count": 38,
   "id": "e11bc4b2",
   "metadata": {},
   "outputs": [
    {
     "data": {
      "text/plain": [
       "(1, 'python', True, 2.5)"
      ]
     },
     "execution_count": 38,
     "metadata": {},
     "output_type": "execute_result"
    }
   ],
   "source": [
    "tupe1 = (1, \"python\", True, 2.5)\n",
    "tupe1"
   ]
  },
  {
   "cell_type": "code",
   "execution_count": 39,
   "id": "58398644",
   "metadata": {},
   "outputs": [
    {
     "data": {
      "text/plain": [
       "tuple"
      ]
     },
     "execution_count": 39,
     "metadata": {},
     "output_type": "execute_result"
    }
   ],
   "source": [
    "#type of tuple\n",
    "type(tupe1)"
   ]
  },
  {
   "cell_type": "markdown",
   "id": "da9769c7",
   "metadata": {},
   "source": [
    "###Indexing in tuple"
   ]
  },
  {
   "cell_type": "code",
   "execution_count": 44,
   "id": "1b1bede1",
   "metadata": {},
   "outputs": [
    {
     "data": {
      "text/plain": [
       "(1, 'python', True)"
      ]
     },
     "execution_count": 44,
     "metadata": {},
     "output_type": "execute_result"
    }
   ],
   "source": [
    "#last element is exclusive\n",
    "tupe1[0:3]"
   ]
  },
  {
   "cell_type": "code",
   "execution_count": 45,
   "id": "67aff60e",
   "metadata": {},
   "outputs": [
    {
     "data": {
      "text/plain": [
       "4"
      ]
     },
     "execution_count": 45,
     "metadata": {},
     "output_type": "execute_result"
    }
   ],
   "source": [
    "len(tupe1)"
   ]
  },
  {
   "cell_type": "code",
   "execution_count": 48,
   "id": "dc44b1b2",
   "metadata": {},
   "outputs": [],
   "source": [
    "tupe2 = (2, \"baba_ammar\", 3.5, \"false\")"
   ]
  },
  {
   "cell_type": "code",
   "execution_count": 51,
   "id": "bb105aa0",
   "metadata": {},
   "outputs": [
    {
     "data": {
      "text/plain": [
       "(1, 'python', True, 2.5, 2, 'baba_ammar', 3.5, 'false')"
      ]
     },
     "execution_count": 51,
     "metadata": {},
     "output_type": "execute_result"
    }
   ],
   "source": [
    "#adding tuples (Concatinate)\n",
    "tupe1 + tupe2"
   ]
  },
  {
   "cell_type": "code",
   "execution_count": 54,
   "id": "739233eb",
   "metadata": {},
   "outputs": [
    {
     "data": {
      "text/plain": [
       "(20, 50, 30, 60, 70)"
      ]
     },
     "execution_count": 54,
     "metadata": {},
     "output_type": "execute_result"
    }
   ],
   "source": [
    "tupe3 = (20, 50, 30, 60, 70)\n",
    "tupe3"
   ]
  },
  {
   "cell_type": "code",
   "execution_count": 56,
   "id": "0927e757",
   "metadata": {},
   "outputs": [
    {
     "data": {
      "text/plain": [
       "20"
      ]
     },
     "execution_count": 56,
     "metadata": {},
     "output_type": "execute_result"
    }
   ],
   "source": [
    "#minimum\n",
    "min(tupe3)"
   ]
  },
  {
   "cell_type": "code",
   "execution_count": 57,
   "id": "ce640c7d",
   "metadata": {},
   "outputs": [
    {
     "data": {
      "text/plain": [
       "70"
      ]
     },
     "execution_count": 57,
     "metadata": {},
     "output_type": "execute_result"
    }
   ],
   "source": [
    "max(tupe3)"
   ]
  },
  {
   "cell_type": "code",
   "execution_count": 58,
   "id": "fbaf4ef0",
   "metadata": {},
   "outputs": [
    {
     "data": {
      "text/plain": [
       "(20, 50, 30, 60, 70, 20, 50, 30, 60, 70)"
      ]
     },
     "execution_count": 58,
     "metadata": {},
     "output_type": "execute_result"
    }
   ],
   "source": [
    "tupe3*2"
   ]
  },
  {
   "cell_type": "markdown",
   "id": "27fe784d",
   "metadata": {},
   "source": [
    "---"
   ]
  },
  {
   "cell_type": "markdown",
   "id": "514d0ae9",
   "metadata": {},
   "source": [
    "##Lists\n",
    "- ordereded collection of elements\n",
    "- enclosed in these [] brackets/braces\n",
    "-you can change the values/mutatable"
   ]
  },
  {
   "cell_type": "code",
   "execution_count": 59,
   "id": "fef74fe7",
   "metadata": {},
   "outputs": [
    {
     "data": {
      "text/plain": [
       "[2, 'baba_ammar', 3.5]"
      ]
     },
     "execution_count": 59,
     "metadata": {},
     "output_type": "execute_result"
    }
   ],
   "source": [
    "list1 = [2, \"baba_ammar\", 3.5]\n",
    "list1"
   ]
  },
  {
   "cell_type": "code",
   "execution_count": 60,
   "id": "58e9b1e3",
   "metadata": {},
   "outputs": [
    {
     "data": {
      "text/plain": [
       "list"
      ]
     },
     "execution_count": 60,
     "metadata": {},
     "output_type": "execute_result"
    }
   ],
   "source": [
    "type(list1)"
   ]
  },
  {
   "cell_type": "code",
   "execution_count": 61,
   "id": "b97a3f49",
   "metadata": {},
   "outputs": [
    {
     "data": {
      "text/plain": [
       "3"
      ]
     },
     "execution_count": 61,
     "metadata": {},
     "output_type": "execute_result"
    }
   ],
   "source": [
    "len(list1)"
   ]
  },
  {
   "cell_type": "code",
   "execution_count": 62,
   "id": "ef771ac0",
   "metadata": {},
   "outputs": [
    {
     "data": {
      "text/plain": [
       "3.5"
      ]
     },
     "execution_count": 62,
     "metadata": {},
     "output_type": "execute_result"
    }
   ],
   "source": [
    "list1[2]"
   ]
  },
  {
   "cell_type": "code",
   "execution_count": 63,
   "id": "538fea56",
   "metadata": {},
   "outputs": [
    {
     "data": {
      "text/plain": [
       "[3, 5, 'Ammar', 'codanics', 478, 53.2, 'False']"
      ]
     },
     "execution_count": 63,
     "metadata": {},
     "output_type": "execute_result"
    }
   ],
   "source": [
    "list2 = [3, 5, \"Ammar\", \"codanics\", 478, 53.2, \"False\"]\n",
    "list2"
   ]
  },
  {
   "cell_type": "code",
   "execution_count": 64,
   "id": "f4593199",
   "metadata": {},
   "outputs": [
    {
     "data": {
      "text/plain": [
       "[2, 'baba_ammar', 3.5, 3, 5, 'Ammar', 'codanics', 478, 53.2, 'False']"
      ]
     },
     "execution_count": 64,
     "metadata": {},
     "output_type": "execute_result"
    }
   ],
   "source": [
    "list1 + list2"
   ]
  },
  {
   "cell_type": "code",
   "execution_count": 65,
   "id": "eda0448c",
   "metadata": {},
   "outputs": [
    {
     "data": {
      "text/plain": [
       "[2, 'baba_ammar', 3.5, 2, 'baba_ammar', 3.5]"
      ]
     },
     "execution_count": 65,
     "metadata": {},
     "output_type": "execute_result"
    }
   ],
   "source": [
    "list1*2"
   ]
  },
  {
   "cell_type": "code",
   "execution_count": 66,
   "id": "43af30d6",
   "metadata": {},
   "outputs": [
    {
     "data": {
      "text/plain": [
       "[3.5, 'baba_ammar', 2]"
      ]
     },
     "execution_count": 66,
     "metadata": {},
     "output_type": "execute_result"
    }
   ],
   "source": [
    "list1.reverse()\n",
    "list1"
   ]
  },
  {
   "cell_type": "code",
   "execution_count": 68,
   "id": "44ba477d",
   "metadata": {},
   "outputs": [
    {
     "data": {
      "text/plain": [
       "[3.5, 'baba_ammar', 2, 'codanics_youtube_channel', 'codanics_youtube_channel']"
      ]
     },
     "execution_count": 68,
     "metadata": {},
     "output_type": "execute_result"
    }
   ],
   "source": [
    "list1.append(\"codanics_youtube_channel\")\n",
    "list1"
   ]
  },
  {
   "cell_type": "code",
   "execution_count": 82,
   "id": "87729fab",
   "metadata": {},
   "outputs": [
    {
     "data": {
      "text/plain": [
       "[20, 30, 35, 50, 212, 45, 67, 66, 38]"
      ]
     },
     "execution_count": 82,
     "metadata": {},
     "output_type": "execute_result"
    }
   ],
   "source": [
    "list3 = [20, 30, 35, 50, 212, 45, 67, 66, 38]\n",
    "list3"
   ]
  },
  {
   "cell_type": "code",
   "execution_count": 83,
   "id": "41e70a15",
   "metadata": {},
   "outputs": [
    {
     "data": {
      "text/plain": [
       "9"
      ]
     },
     "execution_count": 83,
     "metadata": {},
     "output_type": "execute_result"
    }
   ],
   "source": [
    "len(list3)"
   ]
  },
  {
   "cell_type": "code",
   "execution_count": 84,
   "id": "a51e583d",
   "metadata": {},
   "outputs": [
    {
     "data": {
      "text/plain": [
       "list"
      ]
     },
     "execution_count": 84,
     "metadata": {},
     "output_type": "execute_result"
    }
   ],
   "source": [
    "type(list3)"
   ]
  },
  {
   "cell_type": "code",
   "execution_count": 85,
   "id": "2e3e2408",
   "metadata": {},
   "outputs": [
    {
     "data": {
      "text/plain": [
       "[20, 30, 35, 38, 45, 50, 66, 67, 212]"
      ]
     },
     "execution_count": 85,
     "metadata": {},
     "output_type": "execute_result"
    }
   ],
   "source": [
    "#sorting a list\n",
    "list3.sort()\n",
    "list3"
   ]
  },
  {
   "cell_type": "code",
   "execution_count": 86,
   "id": "ed26314b",
   "metadata": {},
   "outputs": [
    {
     "data": {
      "text/plain": [
       "[20,\n",
       " 30,\n",
       " 35,\n",
       " 38,\n",
       " 45,\n",
       " 50,\n",
       " 66,\n",
       " 67,\n",
       " 212,\n",
       " 20,\n",
       " 30,\n",
       " 35,\n",
       " 38,\n",
       " 45,\n",
       " 50,\n",
       " 66,\n",
       " 67,\n",
       " 212,\n",
       " 20,\n",
       " 30,\n",
       " 35,\n",
       " 38,\n",
       " 45,\n",
       " 50,\n",
       " 66,\n",
       " 67,\n",
       " 212]"
      ]
     },
     "execution_count": 86,
     "metadata": {},
     "output_type": "execute_result"
    }
   ],
   "source": [
    "list3*3"
   ]
  },
  {
   "cell_type": "code",
   "execution_count": 88,
   "id": "9cf2902e",
   "metadata": {},
   "outputs": [
    {
     "data": {
      "text/plain": [
       "[3.5,\n",
       " 'baba_ammar',\n",
       " 2,\n",
       " 'codanics_youtube_channel',\n",
       " 'codanics_youtube_channel',\n",
       " 3,\n",
       " 5,\n",
       " 'Ammar',\n",
       " 'codanics',\n",
       " 478,\n",
       " 53.2,\n",
       " 'False']"
      ]
     },
     "execution_count": 88,
     "metadata": {},
     "output_type": "execute_result"
    }
   ],
   "source": [
    "list = list1 + list2\n",
    "list"
   ]
  },
  {
   "cell_type": "markdown",
   "id": "8f460b24",
   "metadata": {},
   "source": [
    "---"
   ]
  },
  {
   "cell_type": "markdown",
   "id": "a159533c",
   "metadata": {},
   "source": [
    "#Dictionaries\n",
    "- an unordered collection of elements\n",
    "- key and value\n",
    "- curly braces or brackets{}\n",
    "- Mutataable/change the values"
   ]
  },
  {
   "cell_type": "code",
   "execution_count": 91,
   "id": "645bdedf",
   "metadata": {},
   "outputs": [
    {
     "data": {
      "text/plain": [
       "{'Samosa': 30, 'Pakora': 100, 'Raita': 20, 'Salad': 50, 'Chicken_role': 30}"
      ]
     },
     "execution_count": 91,
     "metadata": {},
     "output_type": "execute_result"
    }
   ],
   "source": [
    "#food and their prices\n",
    "food1 = {\"Samosa\":30, \"Pakora\":100, \"Raita\":20, \"Salad\":50, \"Chicken_role\":30}\n",
    "food1"
   ]
  },
  {
   "cell_type": "code",
   "execution_count": 92,
   "id": "6364fbb5",
   "metadata": {},
   "outputs": [
    {
     "data": {
      "text/plain": [
       "dict"
      ]
     },
     "execution_count": 92,
     "metadata": {},
     "output_type": "execute_result"
    }
   ],
   "source": [
    "type(food1)"
   ]
  },
  {
   "cell_type": "code",
   "execution_count": 94,
   "id": "e9a4cdca",
   "metadata": {},
   "outputs": [
    {
     "data": {
      "text/plain": [
       "dict_keys(['Samosa', 'Pakora', 'Raita', 'Salad', 'Chicken_role'])"
      ]
     },
     "execution_count": 94,
     "metadata": {},
     "output_type": "execute_result"
    }
   ],
   "source": [
    "#extract data\n",
    "keys1 = food1.keys()\n",
    "keys1"
   ]
  },
  {
   "cell_type": "code",
   "execution_count": 96,
   "id": "71c89af6",
   "metadata": {
    "scrolled": true
   },
   "outputs": [
    {
     "data": {
      "text/plain": [
       "dict_values([30, 100, 20, 50, 30])"
      ]
     },
     "execution_count": 96,
     "metadata": {},
     "output_type": "execute_result"
    }
   ],
   "source": [
    "values1 = food1.values()\n",
    "values1"
   ]
  },
  {
   "cell_type": "code",
   "execution_count": 98,
   "id": "59492333",
   "metadata": {},
   "outputs": [
    {
     "data": {
      "text/plain": [
       "{'Samosa': 30,\n",
       " 'Pakora': 100,\n",
       " 'Raita': 20,\n",
       " 'Salad': 50,\n",
       " 'Chicken_role': 30,\n",
       " 'Tikki': 10}"
      ]
     },
     "execution_count": 98,
     "metadata": {},
     "output_type": "execute_result"
    }
   ],
   "source": [
    "#adding a new element\n",
    "food1[\"Tikki\"]=10\n",
    "food1"
   ]
  },
  {
   "cell_type": "code",
   "execution_count": 99,
   "id": "0559d773",
   "metadata": {},
   "outputs": [
    {
     "data": {
      "text/plain": [
       "{'Samosa': 30,\n",
       " 'Pakora': 100,\n",
       " 'Raita': 20,\n",
       " 'Salad': 50,\n",
       " 'Chicken_role': 30,\n",
       " 'Tikki': 15}"
      ]
     },
     "execution_count": 99,
     "metadata": {},
     "output_type": "execute_result"
    }
   ],
   "source": [
    "#update the values\n",
    "food1[\"Tikki\"]=15\n",
    "food1"
   ]
  },
  {
   "cell_type": "code",
   "execution_count": 100,
   "id": "8269fb81",
   "metadata": {},
   "outputs": [
    {
     "data": {
      "text/plain": [
       "{'Dates': 150, 'Choclates': 200, 'Sawian': 1000}"
      ]
     },
     "execution_count": 100,
     "metadata": {},
     "output_type": "execute_result"
    }
   ],
   "source": [
    "food2 = {\"Dates\":150, \"Choclates\":200, \"Sawian\":1000}\n",
    "food2"
   ]
  },
  {
   "cell_type": "code",
   "execution_count": 104,
   "id": "284ab9aa",
   "metadata": {},
   "outputs": [],
   "source": [
    "#Concatiate\n",
    "food1.update(food2)"
   ]
  },
  {
   "cell_type": "code",
   "execution_count": 105,
   "id": "3418c3e0",
   "metadata": {},
   "outputs": [
    {
     "data": {
      "text/plain": [
       "{'Samosa': 30,\n",
       " 'Pakora': 100,\n",
       " 'Raita': 20,\n",
       " 'Salad': 50,\n",
       " 'Chicken_role': 30,\n",
       " 'Tikki': 15,\n",
       " 'Dates': 150,\n",
       " 'Choclates': 200,\n",
       " 'Sawian': 1000}"
      ]
     },
     "execution_count": 105,
     "metadata": {},
     "output_type": "execute_result"
    }
   ],
   "source": [
    "food1"
   ]
  },
  {
   "cell_type": "markdown",
   "id": "26738317",
   "metadata": {},
   "source": [
    "#Sets\n",
    "- unordered and unindexed\n",
    "- used with curly braces{}\n",
    "- No duplicates allowed\n",
    "- totally unordered"
   ]
  },
  {
   "cell_type": "code",
   "execution_count": 106,
   "id": "85378612",
   "metadata": {},
   "outputs": [
    {
     "data": {
      "text/plain": [
       "{1, 2.1, 5.2, 'ammar', 'codanics', 'fsd'}"
      ]
     },
     "execution_count": 106,
     "metadata": {},
     "output_type": "execute_result"
    }
   ],
   "source": [
    "s1 = {1, 2.1, 5.2, \"ammar\", \"codanics\", \"fsd\",}\n",
    "s1"
   ]
  },
  {
   "cell_type": "code",
   "execution_count": 107,
   "id": "5418906c",
   "metadata": {},
   "outputs": [
    {
     "data": {
      "text/plain": [
       "{1, 2.1, 5.2, 'Navi', 'ammar', 'codanics', 'fsd'}"
      ]
     },
     "execution_count": 107,
     "metadata": {},
     "output_type": "execute_result"
    }
   ],
   "source": [
    "s1.add(\"Navi\")\n",
    "s1"
   ]
  },
  {
   "cell_type": "code",
   "execution_count": 109,
   "id": "b9c22045",
   "metadata": {},
   "outputs": [
    {
     "data": {
      "text/plain": [
       "{2.1, 5.2, 'Navi', 'ammar', 'codanics', 'fsd'}"
      ]
     },
     "execution_count": 109,
     "metadata": {},
     "output_type": "execute_result"
    }
   ],
   "source": [
    "s1.remove(1)\n",
    "s1"
   ]
  }
 ],
 "metadata": {
  "kernelspec": {
   "display_name": "Python 3 (ipykernel)",
   "language": "python",
   "name": "python3"
  },
  "language_info": {
   "codemirror_mode": {
    "name": "ipython",
    "version": 3
   },
   "file_extension": ".py",
   "mimetype": "text/x-python",
   "name": "python",
   "nbconvert_exporter": "python",
   "pygments_lexer": "ipython3",
   "version": "3.9.7"
  }
 },
 "nbformat": 4,
 "nbformat_minor": 5
}
